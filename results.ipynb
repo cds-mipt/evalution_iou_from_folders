{
 "cells": [
  {
   "cell_type": "markdown",
   "metadata": {},
   "source": [
    "# Apolloscape"
   ]
  },
  {
   "cell_type": "markdown",
   "metadata": {},
   "source": [
    "## UNet"
   ]
  },
  {
   "cell_type": "code",
   "execution_count": null,
   "metadata": {},
   "outputs": [
    {
     "name": "stdout",
     "output_type": "stream",
     "text": [
      "2020-02-11 13:35:44 - \u001b[32m\u001b[1mINFO   \u001b[0m - Evalution of IoU\r\n"
     ]
    }
   ],
   "source": [
    "!python get_iou_metric.py"
   ]
  },
  {
   "cell_type": "markdown",
   "metadata": {},
   "source": [
    "## Deeplabv3+ pretrained on  pascal:"
   ]
  },
  {
   "cell_type": "code",
   "execution_count": 4,
   "metadata": {},
   "outputs": [
    {
     "name": "stdout",
     "output_type": "stream",
     "text": [
      "2020-02-11 13:19:41 - \u001b[32m\u001b[1mINFO   \u001b[0m - Evalution of IoU\n",
      "2020-02-11 13:19:53 - \u001b[34m\u001b[1mLOGS   \u001b[0m - [9/153]\t\tBatch Time:1.1394\t\tmiou:13.7172\n",
      "2020-02-11 13:20:00 - \u001b[34m\u001b[1mLOGS   \u001b[0m - [19/153]\t\tBatch Time:0.9542\t\tmiou:14.8869\n",
      "2020-02-11 13:20:08 - \u001b[34m\u001b[1mLOGS   \u001b[0m - [29/153]\t\tBatch Time:0.8846\t\tmiou:14.9795\n",
      "2020-02-11 13:20:15 - \u001b[34m\u001b[1mLOGS   \u001b[0m - [39/153]\t\tBatch Time:0.8393\t\tmiou:15.4346\n",
      "2020-02-11 13:20:22 - \u001b[34m\u001b[1mLOGS   \u001b[0m - [49/153]\t\tBatch Time:0.8132\t\tmiou:15.1866\n",
      "2020-02-11 13:20:29 - \u001b[34m\u001b[1mLOGS   \u001b[0m - [59/153]\t\tBatch Time:0.7946\t\tmiou:14.8696\n",
      "2020-02-11 13:20:36 - \u001b[34m\u001b[1mLOGS   \u001b[0m - [69/153]\t\tBatch Time:0.7762\t\tmiou:14.4788\n",
      "2020-02-11 13:20:42 - \u001b[34m\u001b[1mLOGS   \u001b[0m - [79/153]\t\tBatch Time:0.7622\t\tmiou:14.1438\n",
      "2020-02-11 13:20:50 - \u001b[34m\u001b[1mLOGS   \u001b[0m - [89/153]\t\tBatch Time:0.7628\t\tmiou:13.8314\n",
      "2020-02-11 13:20:57 - \u001b[34m\u001b[1mLOGS   \u001b[0m - [99/153]\t\tBatch Time:0.7594\t\tmiou:14.0307\n",
      "2020-02-11 13:21:05 - \u001b[34m\u001b[1mLOGS   \u001b[0m - [109/153]\t\tBatch Time:0.7618\t\tmiou:13.8130\n",
      "2020-02-11 13:21:13 - \u001b[34m\u001b[1mLOGS   \u001b[0m - [119/153]\t\tBatch Time:0.7633\t\tmiou:13.6628\n",
      "2020-02-11 13:21:21 - \u001b[34m\u001b[1mLOGS   \u001b[0m - [129/153]\t\tBatch Time:0.7631\t\tmiou:13.6069\n",
      "2020-02-11 13:21:28 - \u001b[34m\u001b[1mLOGS   \u001b[0m - [139/153]\t\tBatch Time:0.7612\t\tmiou:13.7596\n",
      "2020-02-11 13:21:35 - \u001b[34m\u001b[1mLOGS   \u001b[0m - [149/153]\t\tBatch Time:0.7591\t\tmiou:13.8632\n",
      "2020-02-11 13:21:37 - \u001b[32m\u001b[1mINFO   \u001b[0m - void IoU: 0.9524\n",
      "2020-02-11 13:21:37 - \u001b[32m\u001b[1mINFO   \u001b[0m - stop_lane IoU: 0.1122\n",
      "2020-02-11 13:21:37 - \u001b[32m\u001b[1mINFO   \u001b[0m - arrow_right IoU: 0.0221\n",
      "2020-02-11 13:21:37 - \u001b[32m\u001b[1mINFO   \u001b[0m - dirt IoU: 0.0000\n",
      "2020-02-11 13:21:37 - \u001b[32m\u001b[1mINFO   \u001b[0m - don't know IoU: 0.0000\n",
      "2020-02-11 13:21:37 - \u001b[32m\u001b[1mINFO   \u001b[0m - dirt_another IoU: 0.0000\n",
      "2020-02-11 13:21:37 - \u001b[32m\u001b[1mINFO   \u001b[0m - arrow_forward_right IoU: 0.1051\n",
      "2020-02-11 13:21:37 - \u001b[32m\u001b[1mINFO   \u001b[0m - yellow_service_another IoU: 0.0000\n",
      "2020-02-11 13:21:37 - \u001b[32m\u001b[1mINFO   \u001b[0m - parking IoU: 0.0000\n",
      "2020-02-11 13:21:37 - \u001b[32m\u001b[1mINFO   \u001b[0m - dashed IoU: 0.1555\n",
      "2020-02-11 13:21:37 - \u001b[32m\u001b[1mINFO   \u001b[0m - zebra IoU: 0.3487\n",
      "2020-02-11 13:21:37 - \u001b[32m\u001b[1mINFO   \u001b[0m - hatched IoU: 0.0000\n",
      "2020-02-11 13:21:37 - \u001b[32m\u001b[1mINFO   \u001b[0m - arrow_forward_left IoU: 0.0393\n",
      "2020-02-11 13:21:37 - \u001b[32m\u001b[1mINFO   \u001b[0m - arrow_left IoU: 0.0000\n",
      "2020-02-11 13:21:37 - \u001b[32m\u001b[1mINFO   \u001b[0m - solid IoU: 0.2011\n",
      "2020-02-11 13:21:37 - \u001b[32m\u001b[1mINFO   \u001b[0m - yellow_service IoU: 0.0000\n",
      "2020-02-11 13:21:37 - \u001b[32m\u001b[1mINFO   \u001b[0m - don't know2 IoU: 0.0000\n",
      "2020-02-11 13:21:37 - \u001b[32m\u001b[1mINFO   \u001b[0m - arrow_turn IoU: 0.0000\n",
      "2020-02-11 13:21:37 - \u001b[32m\u001b[1mINFO   \u001b[0m - ignored IoU: 0.7039\n",
      "2020-02-11 13:21:37 - \u001b[32m\u001b[1mINFO   \u001b[0m - Mean IoU: 13.8964\n"
     ]
    }
   ],
   "source": [
    "!python get_iou_metric.py"
   ]
  },
  {
   "cell_type": "markdown",
   "metadata": {},
   "source": [
    "## Deeplabv3+ pretrained on cityscapes:"
   ]
  },
  {
   "cell_type": "code",
   "execution_count": 5,
   "metadata": {},
   "outputs": [
    {
     "name": "stdout",
     "output_type": "stream",
     "text": [
      "2020-02-11 13:22:25 - \u001b[32m\u001b[1mINFO   \u001b[0m - Evalution of IoU\n",
      "2020-02-11 13:22:36 - \u001b[34m\u001b[1mLOGS   \u001b[0m - [9/153]\t\tBatch Time:1.1577\t\tmiou:12.7535\n",
      "2020-02-11 13:22:43 - \u001b[34m\u001b[1mLOGS   \u001b[0m - [19/153]\t\tBatch Time:0.9071\t\tmiou:13.4106\n",
      "2020-02-11 13:22:49 - \u001b[34m\u001b[1mLOGS   \u001b[0m - [29/153]\t\tBatch Time:0.8261\t\tmiou:13.2661\n",
      "2020-02-11 13:22:56 - \u001b[34m\u001b[1mLOGS   \u001b[0m - [39/153]\t\tBatch Time:0.7941\t\tmiou:13.3188\n",
      "2020-02-11 13:23:03 - \u001b[34m\u001b[1mLOGS   \u001b[0m - [49/153]\t\tBatch Time:0.7728\t\tmiou:12.9946\n",
      "2020-02-11 13:23:10 - \u001b[34m\u001b[1mLOGS   \u001b[0m - [59/153]\t\tBatch Time:0.7607\t\tmiou:12.8869\n",
      "2020-02-11 13:23:18 - \u001b[34m\u001b[1mLOGS   \u001b[0m - [69/153]\t\tBatch Time:0.7566\t\tmiou:12.7696\n",
      "2020-02-11 13:23:24 - \u001b[34m\u001b[1mLOGS   \u001b[0m - [79/153]\t\tBatch Time:0.7472\t\tmiou:12.4316\n",
      "2020-02-11 13:23:32 - \u001b[34m\u001b[1mLOGS   \u001b[0m - [89/153]\t\tBatch Time:0.7456\t\tmiou:12.3955\n",
      "2020-02-11 13:23:39 - \u001b[34m\u001b[1mLOGS   \u001b[0m - [99/153]\t\tBatch Time:0.7447\t\tmiou:12.7260\n",
      "2020-02-11 13:23:47 - \u001b[34m\u001b[1mLOGS   \u001b[0m - [109/153]\t\tBatch Time:0.7514\t\tmiou:12.6637\n",
      "2020-02-11 13:23:56 - \u001b[34m\u001b[1mLOGS   \u001b[0m - [119/153]\t\tBatch Time:0.7625\t\tmiou:12.6733\n",
      "2020-02-11 13:24:05 - \u001b[34m\u001b[1mLOGS   \u001b[0m - [129/153]\t\tBatch Time:0.7694\t\tmiou:12.7795\n",
      "2020-02-11 13:24:13 - \u001b[34m\u001b[1mLOGS   \u001b[0m - [139/153]\t\tBatch Time:0.7718\t\tmiou:12.8563\n",
      "2020-02-11 13:24:20 - \u001b[34m\u001b[1mLOGS   \u001b[0m - [149/153]\t\tBatch Time:0.7713\t\tmiou:12.7961\n",
      "2020-02-11 13:24:22 - \u001b[32m\u001b[1mINFO   \u001b[0m - void IoU: 0.9514\n",
      "2020-02-11 13:24:22 - \u001b[32m\u001b[1mINFO   \u001b[0m - stop_lane IoU: 0.0046\n",
      "2020-02-11 13:24:22 - \u001b[32m\u001b[1mINFO   \u001b[0m - arrow_right IoU: 0.0000\n",
      "2020-02-11 13:24:22 - \u001b[32m\u001b[1mINFO   \u001b[0m - dirt IoU: 0.0000\n",
      "2020-02-11 13:24:22 - \u001b[32m\u001b[1mINFO   \u001b[0m - don't know IoU: 0.0000\n",
      "2020-02-11 13:24:22 - \u001b[32m\u001b[1mINFO   \u001b[0m - dirt_another IoU: 0.0000\n",
      "2020-02-11 13:24:22 - \u001b[32m\u001b[1mINFO   \u001b[0m - arrow_forward_right IoU: 0.0729\n",
      "2020-02-11 13:24:22 - \u001b[32m\u001b[1mINFO   \u001b[0m - yellow_service_another IoU: 0.0000\n",
      "2020-02-11 13:24:22 - \u001b[32m\u001b[1mINFO   \u001b[0m - parking IoU: 0.0000\n",
      "2020-02-11 13:24:22 - \u001b[32m\u001b[1mINFO   \u001b[0m - dashed IoU: 0.1226\n",
      "2020-02-11 13:24:22 - \u001b[32m\u001b[1mINFO   \u001b[0m - zebra IoU: 0.3277\n",
      "2020-02-11 13:24:22 - \u001b[32m\u001b[1mINFO   \u001b[0m - hatched IoU: 0.0000\n",
      "2020-02-11 13:24:22 - \u001b[32m\u001b[1mINFO   \u001b[0m - arrow_forward_left IoU: 0.0274\n",
      "2020-02-11 13:24:22 - \u001b[32m\u001b[1mINFO   \u001b[0m - arrow_left IoU: 0.0000\n",
      "2020-02-11 13:24:22 - \u001b[32m\u001b[1mINFO   \u001b[0m - solid IoU: 0.2126\n",
      "2020-02-11 13:24:22 - \u001b[32m\u001b[1mINFO   \u001b[0m - yellow_service IoU: 0.0000\n",
      "2020-02-11 13:24:22 - \u001b[32m\u001b[1mINFO   \u001b[0m - don't know2 IoU: 0.0000\n",
      "2020-02-11 13:24:22 - \u001b[32m\u001b[1mINFO   \u001b[0m - arrow_turn IoU: 0.0000\n",
      "2020-02-11 13:24:22 - \u001b[32m\u001b[1mINFO   \u001b[0m - ignored IoU: 0.7161\n",
      "2020-02-11 13:24:22 - \u001b[32m\u001b[1mINFO   \u001b[0m - \n",
      "Mean IoU: 12.8174\n"
     ]
    }
   ],
   "source": [
    "!python get_iou_metric.py"
   ]
  },
  {
   "cell_type": "code",
   "execution_count": null,
   "metadata": {},
   "outputs": [],
   "source": []
  }
 ],
 "metadata": {
  "kernelspec": {
   "display_name": "Python 3",
   "language": "python",
   "name": "python3"
  },
  "language_info": {
   "codemirror_mode": {
    "name": "ipython",
    "version": 3
   },
   "file_extension": ".py",
   "mimetype": "text/x-python",
   "name": "python",
   "nbconvert_exporter": "python",
   "pygments_lexer": "ipython3",
   "version": "3.7.5"
  }
 },
 "nbformat": 4,
 "nbformat_minor": 2
}
